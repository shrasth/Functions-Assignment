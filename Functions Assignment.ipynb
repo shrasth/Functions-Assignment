{
 "cells": [
  {
   "cell_type": "markdown",
   "id": "0b429272-8404-4740-8b2f-cba2a60730de",
   "metadata": {},
   "source": [
    "**Q1. Which keyword is used to create a function? Create a function to return a list of odd numbers in the\n",
    "range of 1 to 25.**"
   ]
  },
  {
   "cell_type": "markdown",
   "id": "5dcd4cbd-264e-43cb-9070-c657f0727230",
   "metadata": {},
   "source": [
    "The keyword used to create a function is 'def'."
   ]
  },
  {
   "cell_type": "code",
   "execution_count": 7,
   "id": "ab12e292-3755-4e31-987d-a2dc4f01d6fc",
   "metadata": {},
   "outputs": [],
   "source": [
    "#Function to return a list of odd numbers in the range 1 to 25:\n",
    "def odd_num():\n",
    "    odd = []\n",
    "    for i in range(1,26):\n",
    "        if i%2 != 0:\n",
    "            odd.append(i)\n",
    "    return odd"
   ]
  },
  {
   "cell_type": "code",
   "execution_count": 8,
   "id": "a3a0b442-c048-4888-b133-223a2aa08983",
   "metadata": {},
   "outputs": [
    {
     "data": {
      "text/plain": [
       "[1, 3, 5, 7, 9, 11, 13, 15, 17, 19, 21, 23, 25]"
      ]
     },
     "execution_count": 8,
     "metadata": {},
     "output_type": "execute_result"
    }
   ],
   "source": [
    "odd_num()"
   ]
  },
  {
   "cell_type": "markdown",
   "id": "849097a3-dabe-4a3f-b5fd-a72b3b8d65eb",
   "metadata": {},
   "source": [
    "Q2. Why *args and **kwargs is used in some functions? Create a function each for *args and **kwargs to demonstrate their use."
   ]
  },
  {
   "cell_type": "markdown",
   "id": "65fb5e19-0b14-4788-967e-341eeb9f1611",
   "metadata": {},
   "source": [
    "*args allows a function to accept any number of arguments where **kwargs allows function to accept any number of keyword arguments."
   ]
  },
  {
   "cell_type": "code",
   "execution_count": 1,
   "id": "593b3cdf-8795-4cc6-bd03-24227e8c3ac7",
   "metadata": {},
   "outputs": [],
   "source": [
    "##Example for **args\n",
    "\n",
    "def test(*args):\n",
    "    return args"
   ]
  },
  {
   "cell_type": "code",
   "execution_count": 2,
   "id": "03257412-4564-4d6b-84ab-b6a671615f1b",
   "metadata": {},
   "outputs": [
    {
     "data": {
      "text/plain": [
       "(1, 2, 3, 4, 'shr', 'col')"
      ]
     },
     "execution_count": 2,
     "metadata": {},
     "output_type": "execute_result"
    }
   ],
   "source": [
    "test(1,2,3,4,\"shr\",\"col\")"
   ]
  },
  {
   "cell_type": "code",
   "execution_count": 4,
   "id": "05f84f1e-70f8-4c73-852a-2c2e5abd1cef",
   "metadata": {},
   "outputs": [],
   "source": [
    "##Example for **kwargs\n",
    "\n",
    "def test2(**kwargs):\n",
    "    return kwargs"
   ]
  },
  {
   "cell_type": "code",
   "execution_count": 7,
   "id": "072f5c50-0361-49bc-b860-0e864d1f7c1a",
   "metadata": {},
   "outputs": [
    {
     "data": {
      "text/plain": [
       "{'Name': 'Shrasth', 'Age': 26, 'Gender': 'Male'}"
      ]
     },
     "execution_count": 7,
     "metadata": {},
     "output_type": "execute_result"
    }
   ],
   "source": [
    "test2(Name = \"Shrasth\", Age = 26, Gender = \"Male\")"
   ]
  },
  {
   "cell_type": "code",
   "execution_count": null,
   "id": "089e1fbe-256c-4ecd-bbcc-7f0f4a261c6d",
   "metadata": {},
   "outputs": [],
   "source": []
  },
  {
   "cell_type": "markdown",
   "id": "2300ccef-5b69-4372-a509-1e4aa35c8c21",
   "metadata": {},
   "source": [
    "**Q3. What is an iterator in python? Name the method used to initialise the iterator object and the method\n",
    "used for iteration. Use these methods to print the first five elements of the given list [2, 4, 6, 8, 10, 12, 14, 16,\n",
    "18, 20].**"
   ]
  },
  {
   "cell_type": "markdown",
   "id": "00d0a38c-14d4-4e88-9c5c-d00c26d50533",
   "metadata": {},
   "source": [
    "An iterator is an object that allows iteration over list, tuple or dictionary."
   ]
  },
  {
   "cell_type": "code",
   "execution_count": 45,
   "id": "7a3f4a07-be30-4900-9066-28fd1e1db904",
   "metadata": {},
   "outputs": [
    {
     "name": "stdout",
     "output_type": "stream",
     "text": [
      "2\n",
      "4\n",
      "6\n",
      "8\n",
      "10\n"
     ]
    }
   ],
   "source": [
    "## Printing first five elements of the given list\n",
    "l = [2, 4, 6, 8, 10, 12, 14, 16, 18, 20]\n",
    "\n",
    "iterator = iter(l)\n",
    "\n",
    "for _ in range(5):\n",
    "    i = next(iterator)\n",
    "    print(i)\n",
    "\n"
   ]
  },
  {
   "cell_type": "code",
   "execution_count": null,
   "id": "826448e5-a814-4480-8f6b-efdd29711a88",
   "metadata": {},
   "outputs": [],
   "source": []
  },
  {
   "cell_type": "markdown",
   "id": "302275ba-5835-43c4-935e-8589794b419d",
   "metadata": {},
   "source": [
    "**Q4. What is a generator function in python? Why yield keyword is used? Give an example of a generator\n",
    "function.**"
   ]
  },
  {
   "cell_type": "markdown",
   "id": "7bea970a-8c2c-41d0-9b9f-c7038a218dcd",
   "metadata": {},
   "source": [
    "Generator function is a function that generates a sequence of values using the 'yield' instead of 'return'."
   ]
  },
  {
   "cell_type": "code",
   "execution_count": 32,
   "id": "887c4396-ff94-4f99-a443-4aaf8bb264c8",
   "metadata": {},
   "outputs": [
    {
     "name": "stdout",
     "output_type": "stream",
     "text": [
      "1\n",
      "4\n",
      "9\n",
      "16\n",
      "25\n",
      "36\n",
      "49\n",
      "64\n",
      "81\n",
      "100\n"
     ]
    }
   ],
   "source": [
    "##Example of generator function\n",
    "\n",
    "\n",
    "def power(num):\n",
    "    for i in range(1, 11):\n",
    "        yield num ** 2\n",
    "        num +=1\n",
    "for i in power(1):\n",
    "    print(i)"
   ]
  },
  {
   "cell_type": "markdown",
   "id": "1970038e-8b34-488d-9fa2-8eb8eaa45955",
   "metadata": {},
   "source": [
    "**Q5. Create a generator function for prime numbers less than 1000. Use the next() method to print the\n",
    "first 20 prime numbers.**"
   ]
  },
  {
   "cell_type": "code",
   "execution_count": 42,
   "id": "084a69e0-6d9a-4c6b-a69a-1578a9b6db12",
   "metadata": {},
   "outputs": [
    {
     "name": "stdout",
     "output_type": "stream",
     "text": [
      "2\n",
      "3\n",
      "5\n",
      "7\n",
      "11\n",
      "13\n",
      "17\n",
      "19\n",
      "23\n",
      "29\n",
      "31\n",
      "37\n",
      "41\n",
      "43\n",
      "47\n",
      "53\n",
      "59\n",
      "61\n",
      "67\n",
      "71\n"
     ]
    }
   ],
   "source": [
    "def prime():\n",
    "    primes = []\n",
    "    num = 2\n",
    "\n",
    "    while True:\n",
    "        is_prime = True\n",
    "        \n",
    "        for prime in primes:\n",
    "            if num % prime == 0:\n",
    "                is_prime = False\n",
    "                break\n",
    "\n",
    "        if is_prime:\n",
    "            primes.append(num)\n",
    "            yield num\n",
    "\n",
    "        num += 1\n",
    "\n",
    "# Create the generator object\n",
    "generator = prime()\n",
    "\n",
    "# Print the first 20 prime numbers\n",
    "for _ in range(20):\n",
    "    prime = next(generator)\n",
    "    print(prime)\n"
   ]
  }
 ],
 "metadata": {
  "kernelspec": {
   "display_name": "Python 3 (ipykernel)",
   "language": "python",
   "name": "python3"
  },
  "language_info": {
   "codemirror_mode": {
    "name": "ipython",
    "version": 3
   },
   "file_extension": ".py",
   "mimetype": "text/x-python",
   "name": "python",
   "nbconvert_exporter": "python",
   "pygments_lexer": "ipython3",
   "version": "3.10.8"
  }
 },
 "nbformat": 4,
 "nbformat_minor": 5
}
